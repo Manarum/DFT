{
 "cells": [
  {
   "cell_type": "code",
   "execution_count": 1,
   "metadata": {},
   "outputs": [],
   "source": [
    "import os\n",
    "os.makedirs(\"out\", exist_ok=True)\n",
    "def write_to_file(filename, data):\n",
    "    with open(\"out/\"+filename, 'w') as f:\n",
    "        f.write(\"\".join(data))\n",
    "\n",
    "\n",
    "with open('XDATCAR', 'r') as f:\n",
    "    content = f.readlines()\n",
    "    header = content[0:7]\n",
    "    data = {}\n",
    "    for line in content[7:]:\n",
    "        if line.startswith('Direct'):\n",
    "            filename = \"direct_\" + line.strip().split()[2].zfill(3) + \".vasp\"\n",
    "        data[filename] = data.get(filename, []) + [line]\n",
    "    for filename, lines in data.items():\n",
    "        write_to_file(filename, header + lines)"
   ]
  },
  {
   "cell_type": "code",
   "execution_count": null,
   "metadata": {},
   "outputs": [],
   "source": []
  }
 ],
 "metadata": {
  "kernelspec": {
   "display_name": "Python 3 (ipykernel)",
   "language": "python",
   "name": "python3"
  },
  "language_info": {
   "codemirror_mode": {
    "name": "ipython",
    "version": 3
   },
   "file_extension": ".py",
   "mimetype": "text/x-python",
   "name": "python",
   "nbconvert_exporter": "python",
   "pygments_lexer": "ipython3",
   "version": "3.10.9"
  }
 },
 "nbformat": 4,
 "nbformat_minor": 2
}
